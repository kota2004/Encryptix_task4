{
  "nbformat": 4,
  "nbformat_minor": 0,
  "metadata": {
    "colab": {
      "provenance": []
    },
    "kernelspec": {
      "name": "python3",
      "display_name": "Python 3"
    },
    "language_info": {
      "name": "python"
    }
  },
  "cells": [
    {
      "cell_type": "code",
      "execution_count": 58,
      "metadata": {
        "id": "A2VZbQXYeJxh"
      },
      "outputs": [],
      "source": [
        "# Importing the dependencies\n",
        "import numpy as np\n",
        "import pandas as pd\n",
        "from sklearn.feature_extraction.text import TfidfVectorizer\n",
        "from sklearn.model_selection import train_test_split\n",
        "from sklearn.naive_bayes import BernoulliNB\n",
        "from sklearn import metrics"
      ]
    },
    {
      "cell_type": "code",
      "source": [
        "# loading the dataset\n",
        "dataset=pd.read_csv('spam.csv',header=None,encoding='latin-1',skiprows=1)\n",
        "dataset.drop(columns=[2,3,4],inplace=True)"
      ],
      "metadata": {
        "id": "x053mfYnghdl"
      },
      "execution_count": 59,
      "outputs": []
    },
    {
      "cell_type": "code",
      "source": [
        "print(dataset)"
      ],
      "metadata": {
        "colab": {
          "base_uri": "https://localhost:8080/"
        },
        "id": "xhvVnbFLemLQ",
        "outputId": "8d4afa11-1736-4f2f-b75d-760191916696"
      },
      "execution_count": 60,
      "outputs": [
        {
          "output_type": "stream",
          "name": "stdout",
          "text": [
            "         0                                                  1\n",
            "0      ham  Go until jurong point, crazy.. Available only ...\n",
            "1      ham                      Ok lar... Joking wif u oni...\n",
            "2     spam  Free entry in 2 a wkly comp to win FA Cup fina...\n",
            "3      ham  U dun say so early hor... U c already then say...\n",
            "4      ham  Nah I don't think he goes to usf, he lives aro...\n",
            "...    ...                                                ...\n",
            "5567  spam  This is the 2nd time we have tried 2 contact u...\n",
            "5568   ham              Will Ì_ b going to esplanade fr home?\n",
            "5569   ham  Pity, * was in mood for that. So...any other s...\n",
            "5570   ham  The guy did some bitching but I acted like i'd...\n",
            "5571   ham                         Rofl. Its true to its name\n",
            "\n",
            "[5572 rows x 2 columns]\n"
          ]
        }
      ]
    },
    {
      "cell_type": "code",
      "source": [
        "# let's see what are all the divisions in messages in the dataset\n",
        "labels=dataset[0].unique()\n",
        "print(labels)"
      ],
      "metadata": {
        "colab": {
          "base_uri": "https://localhost:8080/"
        },
        "id": "5LEOuu_Mfx2m",
        "outputId": "de995386-51d6-41f2-fa11-5836a0f37c3d"
      },
      "execution_count": 61,
      "outputs": [
        {
          "output_type": "stream",
          "name": "stdout",
          "text": [
            "['ham' 'spam']\n"
          ]
        }
      ]
    },
    {
      "cell_type": "code",
      "source": [
        "# creating dictionary for the labels\n",
        "dict={'ham':0,'spam':1}"
      ],
      "metadata": {
        "id": "lbsIJiFAg2PK"
      },
      "execution_count": 62,
      "outputs": []
    },
    {
      "cell_type": "code",
      "source": [
        "dataset[2]=dataset[0].map(dict)\n",
        "print(dataset)"
      ],
      "metadata": {
        "colab": {
          "base_uri": "https://localhost:8080/"
        },
        "id": "EmWIWECQhFZC",
        "outputId": "d3302a72-b35a-4014-e4b5-278d5c23f64b"
      },
      "execution_count": 63,
      "outputs": [
        {
          "output_type": "stream",
          "name": "stdout",
          "text": [
            "         0                                                  1  2\n",
            "0      ham  Go until jurong point, crazy.. Available only ...  0\n",
            "1      ham                      Ok lar... Joking wif u oni...  0\n",
            "2     spam  Free entry in 2 a wkly comp to win FA Cup fina...  1\n",
            "3      ham  U dun say so early hor... U c already then say...  0\n",
            "4      ham  Nah I don't think he goes to usf, he lives aro...  0\n",
            "...    ...                                                ... ..\n",
            "5567  spam  This is the 2nd time we have tried 2 contact u...  1\n",
            "5568   ham              Will Ì_ b going to esplanade fr home?  0\n",
            "5569   ham  Pity, * was in mood for that. So...any other s...  0\n",
            "5570   ham  The guy did some bitching but I acted like i'd...  0\n",
            "5571   ham                         Rofl. Its true to its name  0\n",
            "\n",
            "[5572 rows x 3 columns]\n"
          ]
        }
      ]
    },
    {
      "cell_type": "code",
      "source": [
        "# Splitting train-test data\n",
        "X_train,X_test,y_train,y_test=train_test_split(dataset[1],dataset[2],test_size=0.2,random_state=0)"
      ],
      "metadata": {
        "id": "XDtm8UhRhYrj"
      },
      "execution_count": 64,
      "outputs": []
    },
    {
      "cell_type": "code",
      "source": [
        "# here converting the textual data into numerical data\n",
        "vectorizer=TfidfVectorizer()\n",
        "X_train=vectorizer.fit_transform(X_train)"
      ],
      "metadata": {
        "id": "w2FQUIExiBTr"
      },
      "execution_count": 65,
      "outputs": []
    },
    {
      "cell_type": "code",
      "source": [
        "# Training Naive Bayes(NB) classifier on training data.\n",
        "# Using sparse matrix directly\n",
        "clf=BernoulliNB().fit(X_train,y_train)"
      ],
      "metadata": {
        "id": "iqSpyVQfiVDu"
      },
      "execution_count": 66,
      "outputs": []
    },
    {
      "cell_type": "code",
      "source": [
        "# transforming test data into numerical format and predictions on test data\n",
        "X_test=vectorizer.transform(X_test)\n",
        "predictions=clf.predict(X_test)"
      ],
      "metadata": {
        "id": "zHHWzNtkihAo"
      },
      "execution_count": 67,
      "outputs": []
    },
    {
      "cell_type": "code",
      "source": [
        "# printing accuracy, Confusion Matrix, Precision and Recall\n",
        "print('Accuracy: ',metrics.accuracy_score(y_test,predictions))\n",
        "print('Confusion Matrix: ',metrics.confusion_matrix(y_test,predictions))\n",
        "print('classification report is: ',metrics.classification_report(y_test,predictions))\n",
        "print('Precision: ',metrics.precision_score(y_test,predictions,average=None))\n",
        "print('Recall: ',metrics.recall_score(y_test,predictions,average=None))"
      ],
      "metadata": {
        "colab": {
          "base_uri": "https://localhost:8080/"
        },
        "id": "ZOvhcCJeiv00",
        "outputId": "791cb7bc-cb04-4298-bb6f-885f586dc54a"
      },
      "execution_count": 68,
      "outputs": [
        {
          "output_type": "stream",
          "name": "stdout",
          "text": [
            "Accuracy:  0.9668161434977578\n",
            "Confusion Matrix:  [[948   1]\n",
            " [ 36 130]]\n",
            "classification report is:                precision    recall  f1-score   support\n",
            "\n",
            "           0       0.96      1.00      0.98       949\n",
            "           1       0.99      0.78      0.88       166\n",
            "\n",
            "    accuracy                           0.97      1115\n",
            "   macro avg       0.98      0.89      0.93      1115\n",
            "weighted avg       0.97      0.97      0.97      1115\n",
            "\n",
            "Precision:  [0.96341463 0.99236641]\n",
            "Recall:  [0.99894626 0.78313253]\n"
          ]
        }
      ]
    },
    {
      "cell_type": "code",
      "source": [
        "# That's great as the accuracy is 0.97"
      ],
      "metadata": {
        "id": "C9d9KhwBj0VX"
      },
      "execution_count": 69,
      "outputs": []
    },
    {
      "cell_type": "code",
      "source": [
        "# That's the Span SMS Detection with Bernoulli Naive Bayes Classifier"
      ],
      "metadata": {
        "id": "8AYyLfnnkIb1"
      },
      "execution_count": 70,
      "outputs": []
    },
    {
      "cell_type": "code",
      "source": [
        "from sklearn.naive_bayes import GaussianNB"
      ],
      "metadata": {
        "id": "xCrrT0ickTdT"
      },
      "execution_count": 76,
      "outputs": []
    },
    {
      "cell_type": "code",
      "source": [
        "# As already converted training and testing data into numerical values no need to repeat the step again"
      ],
      "metadata": {
        "id": "QIBQbGzslcHT"
      },
      "execution_count": null,
      "outputs": []
    },
    {
      "cell_type": "code",
      "source": [
        "# Converting into dense array\n",
        "clf = GaussianNB().fit(X_train.toarray(), y_train)"
      ],
      "metadata": {
        "id": "1N89Z1p3lTm4"
      },
      "execution_count": 77,
      "outputs": []
    },
    {
      "cell_type": "code",
      "source": [
        "# predictions on test data\n",
        "predictions=clf.predict(X_test.toarray())"
      ],
      "metadata": {
        "id": "9wPL0P2rkXU0"
      },
      "execution_count": 78,
      "outputs": []
    },
    {
      "cell_type": "code",
      "source": [
        "# printing accuracy, Confusion Matrix, Precision and Recall\n",
        "print('Accuracy: ',metrics.accuracy_score(y_test,predictions))\n",
        "print('Confusion Matrix: ',metrics.confusion_matrix(y_test,predictions))\n",
        "print('classification report is: ',metrics.classification_report(y_test,predictions))\n",
        "print('Precision: ',metrics.precision_score(y_test,predictions,average=None))\n",
        "print('Recall: ',metrics.recall_score(y_test,predictions,average=None))"
      ],
      "metadata": {
        "colab": {
          "base_uri": "https://localhost:8080/"
        },
        "id": "UZbQefJwkg8e",
        "outputId": "9376f691-a779-47c9-fdda-88947504e0aa"
      },
      "execution_count": 79,
      "outputs": [
        {
          "output_type": "stream",
          "name": "stdout",
          "text": [
            "Accuracy:  0.8968609865470852\n",
            "Confusion Matrix:  [[858  91]\n",
            " [ 24 142]]\n",
            "classification report is:                precision    recall  f1-score   support\n",
            "\n",
            "           0       0.97      0.90      0.94       949\n",
            "           1       0.61      0.86      0.71       166\n",
            "\n",
            "    accuracy                           0.90      1115\n",
            "   macro avg       0.79      0.88      0.82      1115\n",
            "weighted avg       0.92      0.90      0.90      1115\n",
            "\n",
            "Precision:  [0.97278912 0.60944206]\n",
            "Recall:  [0.90410959 0.85542169]\n"
          ]
        }
      ]
    },
    {
      "cell_type": "code",
      "source": [
        "# That's the Spam SMS Detection using Naive-Bayes Gaussian classifier"
      ],
      "metadata": {
        "id": "vIBuZxlRlLLn"
      },
      "execution_count": 80,
      "outputs": []
    },
    {
      "cell_type": "code",
      "source": [],
      "metadata": {
        "id": "xNgo0xwam_92"
      },
      "execution_count": null,
      "outputs": []
    }
  ]
}